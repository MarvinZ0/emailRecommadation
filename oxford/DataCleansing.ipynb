{
 "cells": [
  {
   "cell_type": "markdown",
   "metadata": {},
   "source": [
    "<h1>Recommadation System"
   ]
  },
  {
   "cell_type": "markdown",
   "metadata": {},
   "source": [
    "<h3>Import the package required"
   ]
  },
  {
   "cell_type": "code",
   "execution_count": 2,
   "metadata": {
    "collapsed": true
   },
   "outputs": [],
   "source": [
    "import pandas as pd\n",
    "import matplotlib.pyplot as plt\n",
    "import re\n",
    "import numpy\n",
    "import pylab\n",
    "from collections import Counter\n",
    "from nltk.stem.snowball import SnowballStemmer\n",
    "from nltk.corpus import stopwords\n",
    "from sklearn.feature_extraction.text import TfidfVectorizer\n",
    "from scipy import spatial\n",
    "from pylab import rcParams\n",
    "rcParams['figure.figsize'] = 20, 5"
   ]
  },
  {
   "cell_type": "markdown",
   "metadata": {},
   "source": [
    "<h2>Data Cleansing"
   ]
  },
  {
   "cell_type": "markdown",
   "metadata": {},
   "source": [
    "<h4>Check the mails in training_info and training_set are bijiection"
   ]
  },
  {
   "cell_type": "code",
   "execution_count": 6,
   "metadata": {
    "collapsed": true
   },
   "outputs": [],
   "source": [
    "def check_info_set(info_filename,set_filename):\n",
    "    training_info = pd.read_csv(info_filename, sep=',', header=0)\n",
    "    training = pd.read_csv(set_filename, sep=',', header=0)\n",
    "\n",
    "    mailIds2 = []\n",
    "    for mails in training['mids'].tolist():\n",
    "        mails = mails.split(' ')\n",
    "        mailIds2.append(mails)\n",
    "    print \"%d senders,correct!\"%len(mailIds2) if len(mailIds2)==125 else \"Sender(s) missing\"\n",
    "\n",
    "    mailIds2 = [int(mail) for sublist in mailIds2 for mail in sublist]\n",
    "\n",
    "    print \"There are %d mails in training_set\"%len(mailIds2)\n",
    "\n",
    "    print \"There are %d mails in training_info\"%len(training_info['mid'].tolist())\n",
    "\n",
    "    print \"Checked, they are in Bijection\" if set(mailIds2)==set(training_info['mid'].tolist()) else \"Not the same\""
   ]
  },
  {
   "cell_type": "code",
   "execution_count": 7,
   "metadata": {
    "collapsed": false
   },
   "outputs": [
    {
     "name": "stdout",
     "output_type": "stream",
     "text": [
      "125 senders,correct!\n",
      "There are 43613 mails in training_set\n",
      "There are 43613 mails in training_info\n",
      "Checked, they are in Bijection\n"
     ]
    }
   ],
   "source": [
    "info_filename = '../data/training_info.csv'\n",
    "set_filename = '../data/training_set.csv'\n",
    "check_info_set(info_filename, set_filename)"
   ]
  },
  {
   "cell_type": "markdown",
   "metadata": {},
   "source": [
    "<h4>Merge the training_info and training_set into one file named merged_train"
   ]
  },
  {
   "cell_type": "code",
   "execution_count": 8,
   "metadata": {
    "collapsed": false
   },
   "outputs": [],
   "source": [
    "training = pd.read_csv(set_filename, sep=',', header=0)\n",
    "list_sender = []\n",
    "list_mid = []\n",
    "\n",
    "for index,serie in training.iterrows():\n",
    "    row = serie.tolist()\n",
    "    sender = row[0]\n",
    "    ids = row[1].split(\" \")\n",
    "    ids = [int(x) for x in ids]\n",
    "    for mid in ids:\n",
    "        list_sender.append(sender)\n",
    "        list_mid.append(mid)\n",
    "\n",
    "merged_train = pd.DataFrame({\"sender\":list_sender, \"mid\":list_mid})\n",
    "\n",
    "training_info = pd.read_csv(info_filename, sep=',', header=0)\n",
    "\n",
    "merged_train = pd.merge(merged_train,training_info)\n",
    "merged_train = merged_train.sort_values(by='date',ascending=True)\n",
    "\n",
    "merged_train.mid = merged_train.mid.astype(int)\n",
    "\n",
    "\n",
    "\n",
    "\n",
    "\n",
    "\n",
    "merged_train.to_csv('../data/merged_data/merged_train.csv',index=False)"
   ]
  },
  {
   "cell_type": "markdown",
   "metadata": {},
   "source": [
    "<h4>Observe the distribution of mails"
   ]
  },
  {
   "cell_type": "code",
   "execution_count": 9,
   "metadata": {
    "collapsed": true
   },
   "outputs": [],
   "source": [
    "def count_by_date(training_info_filename):\n",
    "    training_info = pd.read_csv(training_info_filename, sep=',', header=0)\n",
    "    training_info.date = training_info.date.astype(\"datetime64[ns]\")\n",
    "    training_info['date'].groupby([training_info.date.dt.year,training_info.date.dt.month]).count().plot.bar()\n",
    "    plt.show()"
   ]
  },
  {
   "cell_type": "code",
   "execution_count": 20,
   "metadata": {
    "collapsed": false
   },
   "outputs": [
    {
     "data": {
      "image/png": "[encoded data removed]",
      "text/plain": [
       "<matplotlib.figure.Figure at 0x115360790>"
      ]
     },
     "metadata": {},
     "output_type": "display_data"
    }
   ],
   "source": [
    "merged_filename = '../data/merged_data/merged_train.csv'\n",
    "count_by_date(merged_filename)"
   ]
  },
  {
   "cell_type": "markdown",
   "metadata": {},
   "source": [
    "<h4>Found there are some mails which have weird date"
   ]
  },
  {
   "cell_type": "code",
   "execution_count": 21,
   "metadata": {
    "collapsed": false
   },
   "outputs": [
    {
     "name": "stdout",
     "output_type": "stream",
     "text": [
      "Counter({numpy.datetime64('0001'): 160, numpy.datetime64('0002'): 42})\n"
     ]
    }
   ],
   "source": [
    "day = numpy.datetime64('1998-01-01').astype(\"datetime64[ns]\")\n",
    "weird_date = merged_train[merged_train.date.astype(\"datetime64[ns]\") < day]['date'].tolist()\n",
    "weird_date = [numpy.datetime64(x).astype(\"datetime64[Y]\") for x in weird_date]\n",
    "print Counter(weird_date)"
   ]
  },
  {
   "cell_type": "markdown",
   "metadata": {},
   "source": [
    "<h4>Try to remove them"
   ]
  },
  {
   "cell_type": "code",
   "execution_count": 22,
   "metadata": {
    "collapsed": false
   },
   "outputs": [],
   "source": [
    "merged_train = merged_train[merged_train.date.astype(\"datetime64[ns]\") > day]\n",
    "merged_train.to_csv('../data/merged_train.csv', index=False)"
   ]
  },
  {
   "cell_type": "markdown",
   "metadata": {},
   "source": [
    "<h4>Logically the number of mails should be 43613 - 160 - 42 = 43411"
   ]
  },
  {
   "cell_type": "code",
   "execution_count": 23,
   "metadata": {
    "collapsed": false
   },
   "outputs": [
    {
     "name": "stdout",
     "output_type": "stream",
     "text": [
      "43411\n"
     ]
    }
   ],
   "source": [
    "print len(merged_train.mid.tolist())"
   ]
  },
  {
   "cell_type": "markdown",
   "metadata": {},
   "source": [
    "<h4>Re-check the distribution of mails"
   ]
  },
  {
   "cell_type": "code",
   "execution_count": 24,
   "metadata": {
    "collapsed": false,
    "scrolled": true
   },
   "outputs": [
    {
     "data": {
      "image/png": "[encoded data removed]",
      "text/plain": [
       "<matplotlib.figure.Figure at 0x11c6296d0>"
      ]
     },
     "metadata": {},
     "output_type": "display_data"
    }
   ],
   "source": [
    "merged_filename = '../data/merged_train.csv'\n",
    "count_by_date(merged_filename)"
   ]
  },
  {
   "cell_type": "markdown",
   "metadata": {},
   "source": [
    "<h4>Remove the recipients without \"@\""
   ]
  },
  {
   "cell_type": "code",
   "execution_count": 28,
   "metadata": {
    "collapsed": true
   },
   "outputs": [],
   "source": [
    "for index,serie in merged_train.iterrows():\n",
    "    row = serie.tolist()\n",
    "    recipients = row[4].split(\" \")\n",
    "    recipients = [x for x in recipients if '@' in x]\n",
    "    recipients = \" \".join(recipients)\n",
    "    merged_train.set_value(index,'recipients',recipients)\n",
    "    \n",
    "merged_train.to_csv('../data/merged_data/merged_train.csv',index=False)"
   ]
  },
  {
   "cell_type": "markdown",
   "metadata": {},
   "source": [
    "<h4>Check the numbers of recipients"
   ]
  },
  {
   "cell_type": "code",
   "execution_count": 29,
   "metadata": {
    "collapsed": false
   },
   "outputs": [
    {
     "data": {
      "image/png": "[encoded data removed]",
      "text/plain": [
       "<matplotlib.figure.Figure at 0x11209a410>"
      ]
     },
     "metadata": {},
     "output_type": "display_data"
    }
   ],
   "source": [
    "num_rec = []\n",
    "for recs in merged_train.recipients:\n",
    "    num_rec.append(len(recs.split(' ')))\n",
    "    \n",
    "labels, values = zip(*Counter(num_rec).items())\n",
    "indexes = numpy.arange(len(labels))\n",
    "plt.plot(indexes, values)\n",
    "plt.show()"
   ]
  },
  {
   "cell_type": "markdown",
   "metadata": {},
   "source": [
    "<h4>Remove the mails noisy -- remove those mails who has more than 25 recipients"
   ]
  },
  {
   "cell_type": "code",
   "execution_count": 30,
   "metadata": {
    "collapsed": true
   },
   "outputs": [],
   "source": [
    "to_retain = []\n",
    "for index,serie in merged_train.iterrows():\n",
    "    row = serie.tolist()\n",
    "    mid = row[0]\n",
    "    recipients = row[4]\n",
    "    if 0< len(recipients.split(\" \")) <=25:\n",
    "        to_retain.append(mid)\n",
    "        \n",
    "merged_train = merged_train[merged_train.mid.isin(to_retain)]\n",
    "merged_train.to_csv('../data/merged_data/merged_train.csv',index=False)"
   ]
  },
  {
   "cell_type": "markdown",
   "metadata": {},
   "source": [
    "<h4>Recheck the number of recipients"
   ]
  },
  {
   "cell_type": "code",
   "execution_count": 36,
   "metadata": {
    "collapsed": false
   },
   "outputs": [
    {
     "data": {
      "image/png": "[encoded data removed]",
      "text/plain": [
       "<matplotlib.figure.Figure at 0x110504fd0>"
      ]
     },
     "metadata": {},
     "output_type": "display_data"
    }
   ],
   "source": [
    "num_rec = []\n",
    "for recs in merged_train.recipients:\n",
    "    num_rec.append(len(recs.split(' ')))\n",
    "\n",
    "    \n",
    "    \n",
    "\n",
    "\n",
    "# plt.bar(indexes, values, width)\n",
    "# plt.xticks(indexes + width * 0.5, labels)\n",
    "# plt.show()\n",
    "labels, values = zip(*Counter(num_rec).items())\n",
    "indexes = numpy.arange(len(labels))\n",
    "plt.bar(indexes, values,1)\n",
    "plt.show()"
   ]
  },
  {
   "cell_type": "markdown",
   "metadata": {},
   "source": [
    "<h3>Merge the test_info and test_set into one file named merged_test"
   ]
  },
  {
   "cell_type": "code",
   "execution_count": 37,
   "metadata": {
    "collapsed": false
   },
   "outputs": [
    {
     "name": "stdout",
     "output_type": "stream",
     "text": [
      "125 senders,correct!\n",
      "There are 2362 mails in training_set\n",
      "There are 2362 mails in training_info\n",
      "Checked, they are in Bijection\n"
     ]
    }
   ],
   "source": [
    "info_filename = '../data/test_info.csv'\n",
    "set_filename = '../data/test_set.csv'\n",
    "check_info_set(info_filename, set_filename)"
   ]
  },
  {
   "cell_type": "code",
   "execution_count": 38,
   "metadata": {
    "collapsed": true
   },
   "outputs": [],
   "source": [
    "test_set_filename = '../data/test_set.csv'\n",
    "test = pd.read_csv(test_set_filename, sep=',', header=0)\n",
    "\n",
    "list_sender = []\n",
    "list_mid = []\n",
    "\n",
    "for index,serie in test.iterrows():\n",
    "    row = serie.tolist()\n",
    "    sender = row[0]\n",
    "    ids = row[1].split(\" \")\n",
    "    ids = [int(x) for x in ids]\n",
    "    for mid in ids:\n",
    "        list_sender.append(sender)\n",
    "        list_mid.append(int(mid))\n",
    "\n",
    "merged_test = pd.DataFrame({\"sender\":list_sender, \"mid\":list_mid})\n",
    "\n",
    "test_info_filename = '../data/test_info.csv'\n",
    "test_info = pd.read_csv(test_info_filename, sep=',', header=0)\n",
    "\n",
    "merged_test = pd.merge(merged_test,test_info)\n",
    "merged_test = merged_test.sort_values(by='date',ascending=True)\n",
    "merged_train.mid = merged_train.mid.astype(int)\n",
    "merged_test.to_csv('../data/merged_data/merged_test.csv',index=False)"
   ]
  },
  {
   "cell_type": "code",
   "execution_count": 40,
   "metadata": {
    "collapsed": false
   },
   "outputs": [
    {
     "data": {
      "image/png": "[encoded data removed]",
      "text/plain": [
       "<matplotlib.figure.Figure at 0x1216cded0>"
      ]
     },
     "metadata": {},
     "output_type": "display_data"
    }
   ],
   "source": [
    "merged_test = '../data/merged_data/merged_test.csv'\n",
    "count_by_date(merged_test)"
   ]
  }
 ],
 "metadata": {
  "anaconda-cloud": {},
  "kernelspec": {
   "display_name": "Python [conda env:Python2.7]",
   "language": "python",
   "name": "conda-env-Python2.7-py"
  },
  "language_info": {
   "codemirror_mode": {
    "name": "ipython",
    "version": 2
   },
   "file_extension": ".py",
   "mimetype": "text/x-python",
   "name": "python",
   "nbconvert_exporter": "python",
   "pygments_lexer": "ipython2",
   "version": "2.7.12"
  }
 },
 "nbformat": 4,
 "nbformat_minor": 1
}
