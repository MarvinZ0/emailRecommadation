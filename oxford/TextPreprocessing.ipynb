{
 "cells": [
  {
   "cell_type": "markdown",
   "metadata": {},
   "source": [
    "<h1>Text Preprocessing"
   ]
  },
  {
   "cell_type": "code",
   "execution_count": 1,
   "metadata": {
    "collapsed": true
   },
   "outputs": [],
   "source": [
    "import pandas as pd\n",
    "import matplotlib.pyplot as plt\n",
    "import re\n",
    "import numpy\n",
    "import pylab\n",
    "from collections import Counter\n",
    "from nltk.stem.snowball import SnowballStemmer\n",
    "from nltk.corpus import stopwords\n",
    "from sklearn.feature_extraction.text import TfidfVectorizer\n",
    "from scipy import spatial\n",
    "import pickle"
   ]
  },
  {
   "cell_type": "code",
   "execution_count": 10,
   "metadata": {
    "collapsed": true
   },
   "outputs": [],
   "source": [
    "def CleanStw(text):\n",
    "    from nltk.corpus import stopwords\n",
    "    import re\n",
    "    StpWds = stopwords.words('english')\n",
    "    text = ' '.join([word for word in re.sub('\\W|_',' ',text).lower().split() if word not in StpWds])\n",
    "    return text\n",
    "def Stemming(text):\n",
    "    from nltk.stem.snowball import SnowballStemmer\n",
    "    stemmer = SnowballStemmer(\"english\")\n",
    "    text = ' '.join([stemmer.stem(word) for word in text.split(\" \")])\n",
    "    return text\n",
    "def textClean(text):\n",
    "    import re\n",
    "    text = Stemming(CleanStw(re.sub(\"\\d\",\"\",text)))\n",
    "    return text if not text=='' else '0'"
   ]
  },
  {
   "cell_type": "markdown",
   "metadata": {},
   "source": [
    "Clean all the mail text before the computation to reduce its complexity"
   ]
  },
  {
   "cell_type": "code",
   "execution_count": 12,
   "metadata": {
    "collapsed": false
   },
   "outputs": [],
   "source": [
    "merged_train_filename = '../data/merged_data/merged_train.csv'\n",
    "merged_train = pd.read_csv(merged_train_filename, sep=',', header = 0)\n",
    "\n",
    "for index,seris in merged_train.iterrows():\n",
    "    row = seris.tolist()\n",
    "    body = row[3]\n",
    "    body = textClean(body)\n",
    "    merged_train.set_value(index,'body',body)\n",
    "    \n",
    "# merged_train['body'] = merged_train['body'].astype(str)\n",
    "merged_train['body'].fillna('0', inplace=True)\n",
    "    \n",
    "merged_train.to_csv('../data/merged_data/merged_train_textClean.csv',index=False)"
   ]
  },
  {
   "cell_type": "code",
   "execution_count": 254,
   "metadata": {
    "collapsed": false
   },
   "outputs": [
    {
     "name": "stdout",
     "output_type": "stream",
     "text": [
      "<type 'str'>\n"
     ]
    }
   ],
   "source": [
    "print type(merged_train[merged_train.mid==337506]['body'].values[0])"
   ]
  },
  {
   "cell_type": "markdown",
   "metadata": {},
   "source": [
    "Clean all the mail test before the computation to reduce its complexity"
   ]
  },
  {
   "cell_type": "code",
   "execution_count": 11,
   "metadata": {
    "collapsed": false
   },
   "outputs": [],
   "source": [
    "merged_test_filename = '../data/merged_data/merged_test.csv'\n",
    "merged_test = pd.read_csv(merged_test_filename, sep=',', header = 0)\n",
    "\n",
    "for index,seris in merged_test.iterrows():\n",
    "    row = seris.tolist()\n",
    "    body = row[3]\n",
    "    body = textClean(body)\n",
    "#     if type(body)==float:\n",
    "#         body = \"0\"\n",
    "    merged_test.set_value(index,'body',body)\n",
    "    \n",
    "merged_test['body'].fillna(\"0\", inplace=True)\n",
    "# merged_test['body'] = merged_test['body'].astype(str)\n",
    "\n",
    "\n",
    "merged_test.to_csv('../data/merged_data/merged_test_textClean.csv',index=False)"
   ]
  }
 ],
 "metadata": {
  "anaconda-cloud": {},
  "kernelspec": {
   "display_name": "Python [conda env:Python2.7]",
   "language": "python",
   "name": "conda-env-Python2.7-py"
  },
  "language_info": {
   "codemirror_mode": {
    "name": "ipython",
    "version": 2
   },
   "file_extension": ".py",
   "mimetype": "text/x-python",
   "name": "python",
   "nbconvert_exporter": "python",
   "pygments_lexer": "ipython2",
   "version": "2.7.12"
  }
 },
 "nbformat": 4,
 "nbformat_minor": 1
}
