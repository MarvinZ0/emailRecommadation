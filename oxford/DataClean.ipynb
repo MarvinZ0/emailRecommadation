{
 "cells": [
  {
   "cell_type": "markdown",
   "metadata": {},
   "source": [
    "<p1>Import the package and the dataframe"
   ]
  },
  {
   "cell_type": "code",
   "execution_count": 2,
   "metadata": {
    "collapsed": false
   },
   "outputs": [],
   "source": [
    "import pandas as pd\n",
    "import matplotlib.pyplot as plt\n",
    "import re\n",
    "import numpy\n",
    "import pylab\n",
    "# path_to_data = './data/'\n",
    "# training = pd.read_csv(path_to_data + 'training_set.csv', sep=',', header=0)\n",
    "# test = pd.read_csv(path_to_data + 'test_set.csv', sep=',', header=0)\n",
    "# training_info = pd.read_csv(path_to_data + 'training_info.csv', sep=',', header=0)\n",
    "# test_info = pd.read_csv(path_to_data + 'test_info.csv', sep=',', header=0)\n",
    "from collections import Counter"
   ]
  },
  {
   "cell_type": "markdown",
   "metadata": {},
   "source": [
    "<p1>A function which check the amount of mails and senders"
   ]
  },
  {
   "cell_type": "code",
   "execution_count": 3,
   "metadata": {
    "collapsed": true
   },
   "outputs": [],
   "source": [
    "def check_info_set(info_filename,set_filename):\n",
    "    training_info = pd.read_csv(training_info_filename, sep=',', header=0)\n",
    "    training = pd.read_csv(training_set_filename, sep=',', header=0)\n",
    "\n",
    "    mailIds2 = []\n",
    "    for mails in training['mids'].tolist():\n",
    "        mails = mails.split(' ')\n",
    "        mailIds2.append(mails)\n",
    "    print \"%d senders,correct!\"%len(mailIds2) if len(mailIds2)==125 else \"Sender(s) missing\"\n",
    "\n",
    "    mailIds2 = [int(mail) for sublist in mailIds2 for mail in sublist]\n",
    "\n",
    "    print \"There is %d mails in training_set\"%len(mailIds2)\n",
    "\n",
    "    print \"There is %d mails in training_info\"%len(training_info['mid'].tolist())\n",
    "\n",
    "    print \"Checked, they are in Bijection\" if set(mailIds2)==set(training_info['mid'].tolist()) else \"Not the same\""
   ]
  },
  {
   "cell_type": "markdown",
   "metadata": {},
   "source": [
    "<p1> A function who generate new info and set which include the mails most recently"
   ]
  },
  {
   "cell_type": "code",
   "execution_count": 4,
   "metadata": {
    "collapsed": true
   },
   "outputs": [],
   "source": [
    "def get_most_recently_mail(traing_info_filename,training_set_filename,most_recently=1000):\n",
    "    mid_date = pd.read_csv(training_info_filename, sep=',', header=0)\n",
    "    mid_date = training_info.drop(['body','recipients'], 1)\n",
    "    \n",
    "    training_set = pd.read_csv(training_set_filename, sep=',', header=0)\n",
    "\n",
    "    for index,serie in training_set.iterrows():\n",
    "        row = serie.tolist()\n",
    "        mids = row[1].split(\" \")\n",
    "        mids = [int(x) for x in mids]\n",
    "        cache = mid_date['mid'].tolist()\n",
    "        cache = [int(x) for x in cache if x in mids]\n",
    "        if len(cache)>most_recently:\n",
    "            cache = cache[:most_recently]\n",
    "\n",
    "        midStr = ' '.join(str(x) for x in cache)\n",
    "        training_set['mids'].iloc[index] = midStr\n",
    "\n",
    "    training_info = pd.read_csv(training_info_filename, sep=',', header=0)\n",
    "\n",
    "    allMids = []\n",
    "    for index,serie in training_set.iterrows():\n",
    "        row = serie.tolist()\n",
    "        mids = row[1].split(\" \")\n",
    "        allMids.append(mids)\n",
    "\n",
    "    allMids = [int(x) for sublist in allMids for x in sublist]\n",
    "    training_info = training_info[training_info['mid'].isin(allMids)]\n",
    "    \n",
    "    \n",
    "    return training_info,training_set"
   ]
  },
  {
   "cell_type": "markdown",
   "metadata": {},
   "source": [
    "<p1>A function who plot a histogram to present the frequency of mails by date in the file training_info"
   ]
  },
  {
   "cell_type": "code",
   "execution_count": 24,
   "metadata": {
    "collapsed": true
   },
   "outputs": [],
   "source": [
    "def count_by_date(training_info_filename):\n",
    "    training_info = pd.read_csv(training_info_filename, sep=',', header=0)\n",
    "    training_info.date = training_info.date.astype(\"datetime64[ns]\")\n",
    "    training_info['date'].groupby([training_info.date.dt.year,training_info.date.dt.month]).count().plot.bar()\n",
    "    plt.show()"
   ]
  },
  {
   "cell_type": "markdown",
   "metadata": {},
   "source": [
    "<p2>Merge training_info and training_set into one file"
   ]
  },
  {
   "cell_type": "code",
   "execution_count": null,
   "metadata": {
    "collapsed": false
   },
   "outputs": [],
   "source": [
    "# training_info_filename = '../data/training_info_clean.csv'\n",
    "# training_set_filename = '../data/training_set_clean.csv'\n",
    "\n",
    "# training_info = pd.read_csv(training_info_filename, sep=',', header=0)\n",
    "# training = pd.read_csv(training_set_filename, sep=',', header=0)\n",
    "\n",
    "# sender_list = []\n",
    "# for index,serie in training_info.iterrows():\n",
    "#     row = serie.tolist()\n",
    "#     mid = int(row[0])\n",
    "#     for index,serie in training.iterrows():\n",
    "#         row2 = serie.tolist()\n",
    "#         sender_name = row2[0]\n",
    "#         ids = row2[1].split(\" \")\n",
    "#         ids = [int(x) for x in ids]\n",
    "#         if mid in ids:\n",
    "#             sender_list.append(sender_name)\n",
    "\n",
    "# print len(sender_list)\n",
    "# print len(training_info.mid.tolist())"
   ]
  },
  {
   "cell_type": "code",
   "execution_count": 14,
   "metadata": {
    "collapsed": false
   },
   "outputs": [],
   "source": [
    "sender_count = Counter(sender_list)"
   ]
  },
  {
   "cell_type": "code",
   "execution_count": 7,
   "metadata": {
    "collapsed": false
   },
   "outputs": [
    {
     "name": "stdout",
     "output_type": "stream",
     "text": [
      "125 senders,correct!\n",
      "There is 43411 mails in training_set\n",
      "There is 43411 mails in training_info\n",
      "Checked, they are in Bijection\n"
     ]
    }
   ],
   "source": [
    "training_info_filename = '../data/training_info_clean.csv'\n",
    "training_set_filename = '../data/training_set_clean.csv'\n",
    "check_info_set(training_info_filename,training_set_filename)"
   ]
  },
  {
   "cell_type": "code",
   "execution_count": 16,
   "metadata": {
    "collapsed": false
   },
   "outputs": [
    {
     "name": "stdout",
     "output_type": "stream",
     "text": [
      "      mid                   sender\n",
      "0  158713  karen.buckley@enron.com\n",
      "1  158697  karen.buckley@enron.com\n",
      "2  200301  karen.buckley@enron.com\n",
      "3  158679  karen.buckley@enron.com\n",
      "4  278595  karen.buckley@enron.com\n",
      "5  298162  karen.buckley@enron.com\n",
      "6  200215  karen.buckley@enron.com\n",
      "7  256957  karen.buckley@enron.com\n",
      "8  256959  karen.buckley@enron.com\n",
      "9  268323  karen.buckley@enron.com\n",
      "43411\n"
     ]
    }
   ],
   "source": [
    "training_set_filename = '../data/training_set_clean.csv'\n",
    "training = pd.read_csv(training_set_filename, sep=',', header=0)\n",
    "\n",
    "list_sender = []\n",
    "list_mid = []\n",
    "\n",
    "for index,serie in training.iterrows():\n",
    "    row = serie.tolist()\n",
    "    sender = row[0]\n",
    "    ids = row[1].split(\" \")\n",
    "    ids = [int(x) for x in ids]\n",
    "    for mid in ids:\n",
    "        list_sender.append(sender)\n",
    "        list_mid.append(mid)\n",
    "\n",
    "merge_train = pd.DataFrame({\"sender\":list_sender, \"mid\":list_mid})\n",
    "\n",
    "print merge_train.head(10)\n",
    "print len(merge_train.mid.tolist())\n",
    "\n"
   ]
  },
  {
   "cell_type": "code",
   "execution_count": 17,
   "metadata": {
    "collapsed": false
   },
   "outputs": [
    {
     "ename": "AttributeError",
     "evalue": "mids",
     "output_type": "error",
     "traceback": [
      "\u001b[0;31m---------------------------------------------------------------------------\u001b[0m",
      "\u001b[0;31mAttributeError\u001b[0m                            Traceback (most recent call last)",
      "\u001b[0;32m<ipython-input-17-8b91408fdaae>\u001b[0m in \u001b[0;36m<module>\u001b[0;34m()\u001b[0m\n\u001b[1;32m      4\u001b[0m \u001b[0mmerge_train\u001b[0m \u001b[0;34m=\u001b[0m \u001b[0mpd\u001b[0m\u001b[0;34m.\u001b[0m\u001b[0mmerge\u001b[0m\u001b[0;34m(\u001b[0m\u001b[0mmerge_train\u001b[0m\u001b[0;34m,\u001b[0m\u001b[0mtraining_info\u001b[0m\u001b[0;34m)\u001b[0m\u001b[0;34m\u001b[0m\u001b[0m\n\u001b[1;32m      5\u001b[0m \u001b[0;34m\u001b[0m\u001b[0m\n\u001b[0;32m----> 6\u001b[0;31m \u001b[0;32mdel\u001b[0m \u001b[0mmerge_train\u001b[0m\u001b[0;34m.\u001b[0m\u001b[0mmids\u001b[0m\u001b[0;34m\u001b[0m\u001b[0m\n\u001b[0m",
      "\u001b[0;31mAttributeError\u001b[0m: mids"
     ]
    }
   ],
   "source": [
    "training_info_filename = '../data/training_info_clean.csv'\n",
    "training_info = pd.read_csv(training_info_filename, sep=',', header=0)\n",
    "\n",
    "merge_train = pd.merge(merge_train,training_info)"
   ]
  },
  {
   "cell_type": "code",
   "execution_count": 19,
   "metadata": {
    "collapsed": false
   },
   "outputs": [
    {
     "name": "stdout",
     "output_type": "stream",
     "text": [
      "43411\n"
     ]
    }
   ],
   "source": [
    "print len(merge_train.mid.tolist())"
   ]
  },
  {
   "cell_type": "code",
   "execution_count": 23,
   "metadata": {
    "collapsed": false
   },
   "outputs": [
    {
     "name": "stdout",
     "output_type": "stream",
     "text": [
      "43411\n"
     ]
    }
   ],
   "source": [
    "mids = merge_train.mid.tolist()\n",
    "print len(Counter(mids))"
   ]
  },
  {
   "cell_type": "code",
   "execution_count": 26,
   "metadata": {
    "collapsed": false
   },
   "outputs": [
    {
     "data": {
      "image/png": "[encoded data removed]",
      "text/plain": [
       "<matplotlib.figure.Figure at 0x113afe1d0>"
      ]
     },
     "metadata": {},
     "output_type": "display_data"
    }
   ],
   "source": [
    "count_by_date('../data/merge_train.csv')"
   ]
  }
 ],
 "metadata": {
  "anaconda-cloud": {},
  "kernelspec": {
   "display_name": "Python [conda env:Python2.7]",
   "language": "python",
   "name": "conda-env-Python2.7-py"
  },
  "language_info": {
   "codemirror_mode": {
    "name": "ipython",
    "version": 2
   },
   "file_extension": ".py",
   "mimetype": "text/x-python",
   "name": "python",
   "nbconvert_exporter": "python",
   "pygments_lexer": "ipython2",
   "version": "2.7.12"
  }
 },
 "nbformat": 4,
 "nbformat_minor": 1
}
