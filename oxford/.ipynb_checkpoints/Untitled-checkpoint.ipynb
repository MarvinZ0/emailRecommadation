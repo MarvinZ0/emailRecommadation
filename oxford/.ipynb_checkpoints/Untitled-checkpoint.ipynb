{
 "cells": [
  {
   "cell_type": "code",
   "execution_count": 2,
   "metadata": {
    "collapsed": true
   },
   "outputs": [],
   "source": [
    "import pandas as pd\n",
    "import matplotlib.pyplot as plt\n",
    "import re\n",
    "import numpy\n",
    "import pylab\n",
    "from collections import Counter\n",
    "from nltk.stem.snowball import SnowballStemmer\n",
    "from nltk.corpus import stopwords\n",
    "from sklearn.feature_extraction.text import TfidfVectorizer\n",
    "from scipy import spatial\n",
    "from pylab import rcParams\n",
    "rcParams['figure.figsize'] = 20, 5"
   ]
  },
  {
   "cell_type": "code",
   "execution_count": 1,
   "metadata": {
    "collapsed": true
   },
   "outputs": [],
   "source": [
    "def check_info_set(info_filename,set_filename):\n",
    "    training_info = pd.read_csv(info_filename, sep=',', header=0)\n",
    "    training = pd.read_csv(set_filename, sep=',', header=0)\n",
    "\n",
    "    mailIds2 = []\n",
    "    for mails in training['mids'].tolist():\n",
    "        mails = mails.split(' ')\n",
    "        mailIds2.append(mails)\n",
    "    print \"%d senders,correct!\"%len(mailIds2) if len(mailIds2)==125 else \"Sender(s) missing\"\n",
    "\n",
    "    mailIds2 = [int(mail) for sublist in mailIds2 for mail in sublist]\n",
    "\n",
    "    print \"There are %d mails in training_set\"%len(mailIds2)\n",
    "\n",
    "    print \"There are %d mails in training_info\"%len(training_info['mid'].tolist())\n",
    "\n",
    "    print \"Checked, they are in Bijection\" if set(mailIds2)==set(training_info['mid'].tolist()) else \"Not the same\""
   ]
  },
  {
   "cell_type": "code",
   "execution_count": 3,
   "metadata": {
    "collapsed": true
   },
   "outputs": [],
   "source": [
    "def count_by_date(training_info_filename):\n",
    "    training_info = pd.read_csv(training_info_filename, sep=',', header=0)\n",
    "    training_info.date = training_info.date.astype(\"datetime64[ns]\")\n",
    "    training_info['date'].groupby([training_info.date.dt.year,training_info.date.dt.month]).count().plot.bar()\n",
    "    plt.show()"
   ]
  },
  {
   "cell_type": "code",
   "execution_count": 4,
   "metadata": {
    "collapsed": false
   },
   "outputs": [
    {
     "data": {
      "image/png": "[encoded data removed]",
      "text/plain": [
       "<matplotlib.figure.Figure at 0x10453c350>"
      ]
     },
     "metadata": {},
     "output_type": "display_data"
    }
   ],
   "source": [
    "merged_filename = '../data/merged_data/merged_train.csv'\n",
    "count_by_date(merged_filename)"
   ]
  },
  {
   "cell_type": "code",
   "execution_count": 25,
   "metadata": {
    "collapsed": false
   },
   "outputs": [
    {
     "name": "stdout",
     "output_type": "stream",
     "text": [
      "37\n"
     ]
    }
   ],
   "source": [
    "merged_train = pd.read_csv('../data/merged_data/merged_train_textClean.csv', sep=',', header=0)\n",
    "day = numpy.datetime64('2001-11-01 15').astype(\"datetime64[ns]\")\n",
    "eva_test = merged_train[merged_train.date.astype(\"datetime64[ns]\") > day]\n",
    "eva_train = merged_train[merged_train.date.astype(\"datetime64[ns]\") <= day]\n",
    "\n",
    "print len(eva_test.date.tolist())\n",
    "eva_test.to_csv('../data/merged_data/eva_test.csv',index=False)\n",
    "eva_train.to_csv('../data/merged_data/eva_train.csv',index=False)"
   ]
  }
 ],
 "metadata": {
  "anaconda-cloud": {},
  "kernelspec": {
   "display_name": "Python [conda env:Python2.7]",
   "language": "python",
   "name": "conda-env-Python2.7-py"
  },
  "language_info": {
   "codemirror_mode": {
    "name": "ipython",
    "version": 2
   },
   "file_extension": ".py",
   "mimetype": "text/x-python",
   "name": "python",
   "nbconvert_exporter": "python",
   "pygments_lexer": "ipython2",
   "version": "2.7.12"
  }
 },
 "nbformat": 4,
 "nbformat_minor": 1
}
