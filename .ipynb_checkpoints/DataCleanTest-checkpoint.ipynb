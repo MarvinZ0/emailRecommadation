{
 "cells": [
  {
   "cell_type": "markdown",
   "metadata": {},
   "source": [
    "<p1>Import the package and the dataframe"
   ]
  },
  {
   "cell_type": "code",
   "execution_count": 126,
   "metadata": {
    "collapsed": true
   },
   "outputs": [],
   "source": [
    "import pandas as pd\n",
    "import matplotlib.pyplot as plt\n",
    "import re\n",
    "import numpy\n",
    "# path_to_data = './data/'\n",
    "# training = pd.read_csv(path_to_data + 'training_set.csv', sep=',', header=0)\n",
    "# test = pd.read_csv(path_to_data + 'test_set.csv', sep=',', header=0)\n",
    "# training_info = pd.read_csv(path_to_data + 'training_info.csv', sep=',', header=0)\n",
    "# test_info = pd.read_csv(path_to_data + 'test_info.csv', sep=',', header=0)"
   ]
  },
  {
   "cell_type": "markdown",
   "metadata": {},
   "source": [
    "<p1>A function which check the amount of mails and senders"
   ]
  },
  {
   "cell_type": "code",
   "execution_count": 134,
   "metadata": {
    "collapsed": true
   },
   "outputs": [],
   "source": [
    "def check_info_set(info_filename,set_filename):\n",
    "    training_info = pd.read_csv(training_info_filename, sep=',', header=0)\n",
    "    training = pd.read_csv(training_set_filename, sep=',', header=0)\n",
    "\n",
    "    mailIds2 = []\n",
    "    for mails in training['mids'].tolist():\n",
    "        mails = mails.split(' ')\n",
    "        mailIds2.append(mails)\n",
    "    print \"%d senders,correct!\"%len(mailIds2) if len(mailIds2)==125 else \"Sender(s) missing\"\n",
    "\n",
    "    mailIds2 = [int(mail) for sublist in mailIds2 for mail in sublist]\n",
    "\n",
    "    print \"There is %d mails in training_set\"%len(mailIds2)\n",
    "\n",
    "    print \"There is %d mails in training_info\"%len(training_info['mid'].tolist())\n",
    "\n",
    "    print \"Checked, they are in Bijection\" if set(mailIds2)==set(training_info['mid'].tolist()) else \"Not the same\""
   ]
  },
  {
   "cell_type": "markdown",
   "metadata": {},
   "source": [
    "<p1> A function who generate new info and set which include the mails most recently"
   ]
  },
  {
   "cell_type": "code",
   "execution_count": 108,
   "metadata": {
    "collapsed": true
   },
   "outputs": [],
   "source": [
    "def get_most_recently_mail(traing_info_filename,training_set_filename,most_recently=1000):\n",
    "    mid_date = pd.read_csv(training_info_filename, sep=',', header=0)\n",
    "    mid_date = training_info.drop(['body','recipients'], 1)\n",
    "    \n",
    "    training_set = pd.read_csv(training_set_filename, sep=',', header=0)\n",
    "\n",
    "    for index,serie in training_set.iterrows():\n",
    "        row = serie.tolist()\n",
    "        mids = row[1].split(\" \")\n",
    "        mids = [int(x) for x in mids]\n",
    "        cache = mid_date['mid'].tolist()\n",
    "        cache = [int(x) for x in cache if x in mids]\n",
    "        if len(cache)>most_recently:\n",
    "            cache = cache[:most_recently]\n",
    "\n",
    "        midStr = ' '.join(str(x) for x in cache)\n",
    "        training_set['mids'].iloc[index] = midStr\n",
    "\n",
    "    training_info = pd.read_csv(training_info_filename, sep=',', header=0)\n",
    "\n",
    "    allMids = []\n",
    "    for index,serie in training_set.iterrows():\n",
    "        row = serie.tolist()\n",
    "        mids = row[1].split(\" \")\n",
    "        allMids.append(mids)\n",
    "\n",
    "    allMids = [int(x) for sublist in allMids for x in sublist]\n",
    "    training_info = training_info[training_info['mid'].isin(allMids)]\n",
    "    \n",
    "    \n",
    "    return training_info,training_set"
   ]
  },
  {
   "cell_type": "markdown",
   "metadata": {},
   "source": [
    "<p1>A function who plot a histogram to present the frequency of mails by date in the file training_info"
   ]
  },
  {
   "cell_type": "code",
   "execution_count": 109,
   "metadata": {
    "collapsed": true
   },
   "outputs": [],
   "source": [
    "def count_by_date(training_info_filename):\n",
    "    training_info = pd.read_csv(training_info_filename, sep=',', header=0)\n",
    "    training_info.date = training_info.date.astype(\"datetime64[ns]\")\n",
    "    training_info['date'].groupby([training_info.date.dt.year,training_info.date.dt.month]).count().plot.bar()\n",
    "    plt.show()"
   ]
  },
  {
   "cell_type": "markdown",
   "metadata": {},
   "source": [
    "<h3>Get the frequency of mails for each month"
   ]
  },
  {
   "cell_type": "code",
   "execution_count": 4,
   "metadata": {
    "collapsed": false
   },
   "outputs": [
    {
     "data": {
      "image/png": "[encoded data removed]",
      "text/plain": [
       "<matplotlib.figure.Figure at 0x10bc1c350>"
      ]
     },
     "metadata": {},
     "output_type": "display_data"
    }
   ],
   "source": [
    "training_info_filename = './data/training_info.csv'\n",
    "count_by_date(training_info_filename)"
   ]
  },
  {
   "cell_type": "markdown",
   "metadata": {},
   "source": [
    "<h3>Generate the training_info and set which start from the year 2001"
   ]
  },
  {
   "cell_type": "code",
   "execution_count": 23,
   "metadata": {
    "collapsed": false
   },
   "outputs": [
    {
     "name": "stdout",
     "output_type": "stream",
     "text": [
      "28312\n",
      "['2001-09-28 14:40:39', '2001-07-27 14:32:59', '2001-07-20 11:52:09', '2001-07-13 07:59:42', '2001-07-16 08:02:27', '2001-07-12 11:53:21', '2001-07-02 08:44:21', '2001-09-28 09:10:54', '2001-09-26 09:51:12', '2001-07-31 08:21:01']\n"
     ]
    }
   ],
   "source": [
    "training_info = pd.read_csv(path_to_data + 'training_info.csv', sep=',', header=0)\n",
    "training_info = training_info[training_info.date.str.startswith((\"2001\",\"2002\"))==True]\n",
    "file_name = path_to_data + 'training_info_startsFrom_2001.csv'\n",
    "training_info.to_csv(file_name, sep=',', encoding='utf-8', index=False)\n",
    "\n",
    "training_info = pd.read_csv(path_to_data + 'training_info.csv', sep=',', header=0)\n",
    "listRemove = training_info[training_info.date.str.startswith((\"2001\",\"2002\"))==False]['mid'].tolist()\n",
    "listRemove = [int(x) for x in listRemove]\n",
    "\n",
    "training = pd.read_csv(path_to_data + 'training_set.csv', sep=',', header=0)\n",
    "training_info_2001 = pd.read_csv(path_to_data + 'training_info_startsFrom_2001.csv', sep=',', header=0)\n",
    "for index,serie in training.iterrows():\n",
    "    row = serie.tolist()\n",
    "    sender = row[0]\n",
    "    mids = row[1]\n",
    "    mids = mids.split(\" \")\n",
    "    mids = [int(x) for x in mids]\n",
    "    mids = [x for x in mids if x not in listRemove]\n",
    "    strMids = \" \".join(str(x) for x in mids)\n",
    "    training['mids'].iloc[index] = strMids\n",
    "file_name = path_to_data + 'training_set_startsFrom_2001.csv'\n",
    "training.to_csv(file_name, sep=',', encoding='utf-8', index=False)"
   ]
  },
  {
   "cell_type": "markdown",
   "metadata": {},
   "source": [
    "<p>Check the bijection of training_info_startsFrom2001 and training_set_startsFrom2001"
   ]
  },
  {
   "cell_type": "code",
   "execution_count": 89,
   "metadata": {
    "collapsed": false
   },
   "outputs": [
    {
     "name": "stdout",
     "output_type": "stream",
     "text": [
      "125 senders,correct!\n",
      "35932 mails\n",
      "There is 28312 mails in training_set_2001\n",
      "There is 28312 mails in training_info_2001\n",
      "Checked\n"
     ]
    }
   ],
   "source": [
    "training_info_filename = path_to_data + 'training_info_startsFrom_2001.csv'\n",
    "training_set_filename= path_to_data + 'training_set_startsFrom_2001.csv'\n",
    "check_info_set(training_info_filename,training_set_filename)\n"
   ]
  },
  {
   "cell_type": "markdown",
   "metadata": {},
   "source": [
    "<h3>Get the max and min mails count of dataset"
   ]
  },
  {
   "cell_type": "code",
   "execution_count": 7,
   "metadata": {
    "collapsed": false
   },
   "outputs": [
    {
     "name": "stdout",
     "output_type": "stream",
     "text": [
      "MinMails: david.port@enron.com\n",
      "MaxMails: sara.shackleton@enron.com\n",
      "4350\n",
      "67\n"
     ]
    }
   ],
   "source": [
    "training_set = pd.read_csv(path_to_data + 'training_set.csv', sep=',', header=0)\n",
    "maxNum = 0\n",
    "minNum = 1000\n",
    "\n",
    "for index,serie in training_set.iterrows():\n",
    "    row = serie.tolist()\n",
    "    mids = row[1].split(\" \")\n",
    "    if len(mids)==4350:\n",
    "        print \"MaxMails:\",row[0]\n",
    "    if len(mids)>maxNum:\n",
    "        maxNum = len(mids)\n",
    "    if len(mids)==67:\n",
    "        print \"MinMails:\",row[0]\n",
    "    if len(mids)<minNum:\n",
    "        minNum = len(mids)\n",
    "print maxNum\n",
    "print minNum\n"
   ]
  },
  {
   "cell_type": "markdown",
   "metadata": {},
   "source": [
    "<h3>Generate the training_set and training_info which already remove the mails with wrong date\n",
    "<h3>Named training_set_Removed0001.csv and training_info_Removed0001.csv"
   ]
  },
  {
   "cell_type": "code",
   "execution_count": 25,
   "metadata": {
    "collapsed": true
   },
   "outputs": [],
   "source": [
    "path_to_data = './data/'\n",
    "training = pd.read_csv(path_to_data + 'training_set.csv', sep=',', header=0)\n",
    "training_info = pd.read_csv(path_to_data + 'training_info.csv', sep=',', header=0)\n",
    "training_info = training_info.sort_values(by='date',ascending=True)\n",
    "training_info = training_info.drop(training_info.index[:202])\n",
    "print training_info.date.head()\n",
    "filename = path_to_data + 'training_info_Removed0001.csv'\n",
    "training_info.to_csv(filename, sep=',', encoding='utf-8', index=False)\n",
    "\n",
    "training_0001 = pd.read_csv(path_to_data + 'training_info_Removed0001.csv', sep=',', header=0)\n",
    "\n",
    "listExist = training_0001.mid.tolist()\n",
    "listExist = [int(x) for x in listExist]\n",
    "\n",
    "training_set = pd.read_csv(path_to_data + 'training_set.csv', sep=',', header=0)\n",
    "for index,serie in training_set.iterrows():\n",
    "    row = serie.tolist()\n",
    "    sender = row[0]\n",
    "    mids = row[1]\n",
    "    mids = mids.split(\" \")\n",
    "    mids = [int(x) for x in mids]\n",
    "    mids = [x for x in mids if x in listExist]\n",
    "    strMids = \" \".join(str(x) for x in mids)\n",
    "    training_set['mids'].iloc[index] = strMids\n",
    "file_name = path_to_data + 'training_set_Removed0001.csv'\n",
    "training_set.to_csv(file_name, sep=',', encoding='utf-8', index=False)"
   ]
  },
  {
   "cell_type": "markdown",
   "metadata": {},
   "source": [
    "<h3>Check if training_info and training_set are correspond"
   ]
  },
  {
   "cell_type": "code",
   "execution_count": 106,
   "metadata": {
    "collapsed": false
   },
   "outputs": [
    {
     "name": "stdout",
     "output_type": "stream",
     "text": [
      "125 senders,correct!\n",
      "There is 43411 mails in training_set\n",
      "There is 43411 mails in training_info\n",
      "Checked, they are in Bijection\n"
     ]
    }
   ],
   "source": [
    "training_info_filename = path_to_data + 'training_info_Removed0001.csv'\n",
    "training_set_filename = path_to_data + 'training_set_Removed0001.csv'\n",
    "check_info_set(training_info_filename,training_set_filename)"
   ]
  },
  {
   "cell_type": "code",
   "execution_count": 61,
   "metadata": {
    "collapsed": false
   },
   "outputs": [
    {
     "data": {
      "image/png": "[encoded data removed]",
      "text/plain": [
       "<matplotlib.figure.Figure at 0x124846a90>"
      ]
     },
     "metadata": {},
     "output_type": "display_data"
    }
   ],
   "source": [
    "path_to_data = './data/Removed0001_0002/'\n",
    "training_info_filename = path_to_data + 'training_info_Removed0001.csv'\n",
    "training_info = pd.read_csv(training_info_filename, sep=',', header=0)\n",
    "\n",
    "\n",
    "training_info.date = training_info.date.astype(\"datetime64[ns]\")\n",
    "training_info['date'].groupby([training_info.date.dt.year,training_info.date.dt.month]).count().plot.bar()\n",
    "plt.show()"
   ]
  },
  {
   "cell_type": "markdown",
   "metadata": {},
   "source": [
    "<p2>generate a dataset starts from 2001-07"
   ]
  },
  {
   "cell_type": "code",
   "execution_count": 135,
   "metadata": {
    "collapsed": false
   },
   "outputs": [
    {
     "name": "stdout",
     "output_type": "stream",
     "text": [
      "43411\n",
      "125 senders,correct!\n",
      "There is 43411 mails in training_set\n",
      "There is 43411 mails in training_info\n",
      "Checked, they are in Bijection\n"
     ]
    }
   ],
   "source": [
    "training_info_filename = './data/Removed0001_0002/training_info_Removed0001.csv'\n",
    "training_set_filename = './data/Removed0001_0002/training_set_Removed0001.csv'\n",
    "training_info = pd.read_csv(training_info_filename, sep=',', header=0)\n",
    "training = pd.read_csv(training_set_filename, sep=',', header=0)\n",
    "print len(training_info.mid.tolist())\n",
    "\n",
    "a = numpy.datetime64('2001-06-01')\n",
    "training_info = training_info[training_info['date'].astype(\"datetime64[ns]\") >= a.astype(\"datetime64[ns]\")]\n",
    "\n",
    "training_info = pd.read_csv(training_info_filename, sep=',', header=0)\n",
    "training_info = training_info[training_info['date'].astype(\"datetime64[ns]\") >= a.astype(\"datetime64[ns]\")]\n",
    "file_name = './data/Removed0001_0002/training_info_Removed0001_startsFrom2001-07.csv'\n",
    "training_info.to_csv(file_name, sep=',', encoding='utf-8', index=False)\n",
    "\n",
    "training_info = pd.read_csv('./data/Removed0001_0002/training_info_Removed0001.csv', sep=',', header=0)\n",
    "listRemove = training_info[training_info['date'].astype(\"datetime64[ns]\") < a.astype(\"datetime64[ns]\")]['mid'].tolist()\n",
    "listRemove = [int(x) for x in listRemove]\n",
    "\n",
    "training = pd.read_csv(training_set_filename, sep=',', header=0)\n",
    "training_info_from = pd.read_csv('./data/Removed0001_0002/training_info_Removed0001_startsFrom2001-07.csv', sep=',', header=0)\n",
    "for index,serie in training.iterrows():\n",
    "    row = serie.tolist()\n",
    "    sender = row[0]\n",
    "    mids = row[1]\n",
    "    mids = mids.split(\" \")\n",
    "    mids = [int(x) for x in mids]\n",
    "    mids = [x for x in mids if x not in listRemove]\n",
    "    strMids = \" \".join(str(x) for x in mids)\n",
    "    training['mids'].iloc[index] = strMids\n",
    "file_name = './data/Removed0001_0002/training_set_Removed0001_startsFrom2001-07.csv'\n",
    "training.to_csv(file_name, sep=',', encoding='utf-8', index=False)\n",
    "\n",
    "\n",
    "info_file = './data/Removed0001_0002/training_info_Removed0001_startsFrom2001-07.csv'\n",
    "set_file = './data/Removed0001_0002/training_set_Removed0001_startsFrom2001-07.csv'\n",
    "check_info_set(info_file,set_file)\n"
   ]
  }
 ],
 "metadata": {
  "anaconda-cloud": {},
  "kernelspec": {
   "display_name": "Python [conda env:Python2.7]",
   "language": "python",
   "name": "conda-env-Python2.7-py"
  },
  "language_info": {
   "codemirror_mode": {
    "name": "ipython",
    "version": 2
   },
   "file_extension": ".py",
   "mimetype": "text/x-python",
   "name": "python",
   "nbconvert_exporter": "python",
   "pygments_lexer": "ipython2",
   "version": "2.7.12"
  }
 },
 "nbformat": 4,
 "nbformat_minor": 1
}
